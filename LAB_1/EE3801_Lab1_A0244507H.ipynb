{
 "cells": [
  {
   "cell_type": "markdown",
   "metadata": {},
   "source": [
    "Q.1 a"
   ]
  },
  {
   "cell_type": "code",
   "execution_count": 4,
   "metadata": {},
   "outputs": [
    {
     "name": "stdout",
     "output_type": "stream",
     "text": [
      "Requirement already satisfied: pandas in c:\\python311\\lib\\site-packages (2.1.0)\n",
      "Requirement already satisfied: numpy>=1.23.2 in c:\\python311\\lib\\site-packages (from pandas) (1.25.2)\n",
      "Requirement already satisfied: python-dateutil>=2.8.2 in c:\\python311\\lib\\site-packages (from pandas) (2.8.2)\n",
      "Requirement already satisfied: pytz>=2020.1 in c:\\python311\\lib\\site-packages (from pandas) (2023.3.post1)\n",
      "Requirement already satisfied: tzdata>=2022.1 in c:\\python311\\lib\\site-packages (from pandas) (2023.3)\n",
      "Requirement already satisfied: six>=1.5 in c:\\python311\\lib\\site-packages (from python-dateutil>=2.8.2->pandas) (1.16.0)\n"
     ]
    },
    {
     "name": "stderr",
     "output_type": "stream",
     "text": [
      "\n",
      "[notice] A new release of pip available: 22.3.1 -> 23.2.1\n",
      "[notice] To update, run: python.exe -m pip install --upgrade pip\n"
     ]
    },
    {
     "ename": "ModuleNotFoundError",
     "evalue": "No module named 'pandas'",
     "output_type": "error",
     "traceback": [
      "\u001b[1;31m---------------------------------------------------------------------------\u001b[0m",
      "\u001b[1;31mModuleNotFoundError\u001b[0m                       Traceback (most recent call last)",
      "\u001b[1;32m~\\AppData\\Local\\Temp\\ipykernel_24240\\1161776706.py\u001b[0m in \u001b[0;36m<module>\u001b[1;34m\u001b[0m\n\u001b[0;32m      1\u001b[0m \u001b[0mget_ipython\u001b[0m\u001b[1;33m(\u001b[0m\u001b[1;33m)\u001b[0m\u001b[1;33m.\u001b[0m\u001b[0msystem\u001b[0m\u001b[1;33m(\u001b[0m\u001b[1;34m'pip install pandas'\u001b[0m\u001b[1;33m)\u001b[0m\u001b[1;33m\u001b[0m\u001b[1;33m\u001b[0m\u001b[0m\n\u001b[1;32m----> 2\u001b[1;33m \u001b[1;32mimport\u001b[0m \u001b[0mpandas\u001b[0m \u001b[1;32mas\u001b[0m \u001b[0mpd\u001b[0m\u001b[1;33m\u001b[0m\u001b[1;33m\u001b[0m\u001b[0m\n\u001b[0m\u001b[0;32m      3\u001b[0m \u001b[1;32mfrom\u001b[0m \u001b[0mscipy\u001b[0m\u001b[1;33m.\u001b[0m\u001b[0mstats\u001b[0m \u001b[1;32mimport\u001b[0m \u001b[0mhmean\u001b[0m\u001b[1;33m,\u001b[0m\u001b[0mgmean\u001b[0m\u001b[1;33m\u001b[0m\u001b[1;33m\u001b[0m\u001b[0m\n\u001b[0;32m      4\u001b[0m \u001b[1;31m#Q.1 a\u001b[0m\u001b[1;33m\u001b[0m\u001b[1;33m\u001b[0m\u001b[1;33m\u001b[0m\u001b[0m\n\u001b[0;32m      5\u001b[0m \u001b[0mbodyfat2\u001b[0m \u001b[1;33m=\u001b[0m \u001b[0mpd\u001b[0m\u001b[1;33m.\u001b[0m\u001b[0mread_csv\u001b[0m\u001b[1;33m(\u001b[0m\u001b[1;34m'bodyfat2.csv'\u001b[0m\u001b[1;33m)\u001b[0m\u001b[1;33m\u001b[0m\u001b[1;33m\u001b[0m\u001b[0m\n",
      "\u001b[1;31mModuleNotFoundError\u001b[0m: No module named 'pandas'"
     ]
    }
   ],
   "source": [
    "!pip install pandas\n",
    "import pandas as pd\n",
    "from scipy.stats import hmean,gmean\n",
    "#Q.1 a\n",
    "bodyfat2 = pd.read_csv('bodyfat2.csv')\n",
    "bodyfat2_df = pd.DataFrame(bodyfat2)\n",
    "#bodyparts that need to be used in the body_parts list\n",
    "body_parts = [\"neck\",\"chest\",\"abdomen\",\"hip\",\"thigh\",\"knee\",\"ankle\",\"biceps\",\"forearm\",\"wrist\"]\n",
    "\n",
    "individual_bodyfat_df = pd.DataFrame()\n",
    "#finding the mean, median and sum of individual bodyfat and store it in a new Data Frame\n",
    "individual_bodyfat_df[\"Mean\"] = bodyfat2_df[body_parts].mean(axis =1)\n",
    "individual_bodyfat_df[\"Median\"] = bodyfat2_df[body_parts].median(axis=1)\n",
    "individual_bodyfat_df[\"Sum\"] = bodyfat2_df[body_parts].sum(axis=1)\n",
    "individual_bodyfat_df.insert(0, 'ID', individual_bodyfat_df.index)\n",
    "\n",
    "#print the results of Q.1 a\n",
    "print(\"Q.1a The mean, median and sum of the fat present in the body parts for each individual is :\\n \")\n",
    "print(pd.concat([individual_bodyfat_df.head(3), individual_bodyfat_df.tail(3)]).to_string(index=False))\n",
    "print()"
   ]
  },
  {
   "cell_type": "markdown",
   "metadata": {},
   "source": [
    "Q.1 b"
   ]
  },
  {
   "cell_type": "code",
   "execution_count": 185,
   "metadata": {},
   "outputs": [
    {
     "name": "stdout",
     "output_type": "stream",
     "text": [
      "Q.1b The mean, median, and sum of fat for each body part is: \n",
      "\n",
      "Features    Mean  Median    Sum\n",
      "    neck  38.016   38.10 1900.8\n",
      "   chest 101.128  101.10 5056.4\n",
      " abdomen  92.080   89.15 4604.0\n",
      "     hip 102.058  100.45 5102.9\n",
      "   thigh  61.506   61.60 3075.3\n",
      "    knee  38.828   38.70 1941.4\n",
      "   ankle  23.586   23.10 1179.3\n",
      "  biceps  32.798   32.45 1639.9\n",
      " forearm  28.852   29.00 1442.6\n",
      "   wrist  18.118   18.20  905.9\n",
      "\n"
     ]
    }
   ],
   "source": [
    "# saving the features fat: mean, median and sum in a new Data Frame\n",
    "features_bodyfat_df = pd.DataFrame()\n",
    "features_bodyfat_df[\"Mean\"] = bodyfat2_df[body_parts].mean()\n",
    "features_bodyfat_df[\"Median\"] = bodyfat2_df[body_parts].median()\n",
    "features_bodyfat_df[\"Sum\"] = bodyfat2_df[body_parts].sum()\n",
    "features_bodyfat_df.insert(0, 'Features', body_parts)\n",
    "\n",
    "#print the results of Q.1 b\n",
    "print(\"Q.1b The mean, median, and sum of fat for each body part is: \\n\")\n",
    "print(features_bodyfat_df.to_string(index=False))\n",
    "print()"
   ]
  },
  {
   "cell_type": "markdown",
   "metadata": {},
   "source": [
    "Q.1 c"
   ]
  },
  {
   "cell_type": "code",
   "execution_count": 186,
   "metadata": {},
   "outputs": [
    {
     "name": "stdout",
     "output_type": "stream",
     "text": [
      "Q.1c The Results of 3 different types of mean across different bodyparts \n",
      "\n",
      "Features  Arithmetic Mean  Geometric Mean  Harmonic Mean\n",
      "    neck           38.016       37.883069      37.755200\n",
      "   chest          101.128      100.606458     100.106007\n",
      " abdomen           92.080       91.065145      90.135062\n",
      "     hip          102.058      101.577150     101.131966\n",
      "   thigh           61.506       61.161311      60.827484\n",
      "    knee           38.828       38.725157      38.625040\n",
      "   ankle           23.586       23.490255      23.403851\n",
      "  biceps           32.798       32.598184      32.403743\n",
      " forearm           28.852       28.769638      28.685546\n",
      "   wrist           18.118       18.084399      18.051573\n",
      "\n"
     ]
    }
   ],
   "source": [
    "diff_means_df = pd.DataFrame()\n",
    "#Calculate the 3 different types of Mean and store it in a Data Fram\n",
    "diff_means_df[\"Arithmetic Mean\"] = bodyfat2_df[body_parts].mean()\n",
    "diff_means_df[\"Geometric Mean\"] = gmean(bodyfat2_df[body_parts])\n",
    "diff_means_df[\"Harmonic Mean\"] = hmean(bodyfat2_df[body_parts])\n",
    "diff_means_df.insert(0, 'Features', body_parts)\n",
    "\n",
    "# The Results of 3 different types of mean stored in a Data Frame across dofferent body\n",
    "print(\"Q.1c The Results of 3 different types of mean across different bodyparts \\n\")\n",
    "print(diff_means_df.to_string(index=False))\n",
    "print()"
   ]
  },
  {
   "cell_type": "markdown",
   "metadata": {},
   "source": [
    "Q.2 a"
   ]
  },
  {
   "cell_type": "code",
   "execution_count": 187,
   "metadata": {},
   "outputs": [
    {
     "name": "stdout",
     "output_type": "stream",
     "text": [
      "Q2.a The individuals that have the maximum and minimum fat \n",
      "\n",
      "Features  Max Value  Max ID  Min Value  Min ID\n",
      " density     1.0911      25     1.0101      35\n",
      " bodyfat    40.1000      35     3.7000      25\n",
      "    neck    51.2000      38    31.5000      44\n",
      "   chest   136.2000      38    83.4000      49\n",
      " abdomen   148.1000      38    70.4000      49\n",
      "     hip   147.7000      38    85.3000      26\n",
      "   thigh    87.3000      38    50.0000      44\n",
      "    knee    49.1000      38    34.4000      49\n",
      "   ankle    33.9000      30    20.6000      48\n",
      "  biceps    45.0000      38    26.1000      44\n",
      " forearm    32.8000      21    23.1000      44\n",
      "   wrist    21.4000      38    16.1000      44\n",
      "\n"
     ]
    }
   ],
   "source": [
    "#exclude features that we don't need and store values in a new data frame\n",
    "features_exclude = [\"age\", \"weight\", \"height\"]\n",
    "filt_features = [col for col in bodyfat2_df.columns if col not in features_exclude]\n",
    "\n",
    "filt_df = bodyfat2_df[filt_features]\n",
    "\n",
    "max_values_list = []\n",
    "\n",
    "for column in filt_df.columns:\n",
    "    # find the Maximum Value & Index; Minimum Value and Index in a List\n",
    "    max_value = filt_df[column].max()\n",
    "    max_index = filt_df[column].idxmax() \n",
    "    min_value = filt_df[column].min()\n",
    "    min_index = filt_df[column].idxmin() \n",
    "    max_values_list.append((column, max_value, max_index, min_value, min_index))\n",
    "\n",
    "#Store the List in a New Data Frame; and print the Values\n",
    "values_df = pd.DataFrame(max_values_list, columns=['Features', 'Max Value', 'Max ID', 'Min Value', 'Min ID'])\n",
    "\n",
    "print(\"Q2.a The individuals that have the maximum and minimum fat \\n\")\n",
    "print(values_df.to_string(index=False))\n",
    "print()"
   ]
  },
  {
   "cell_type": "markdown",
   "metadata": {},
   "source": [
    "Q.2 b"
   ]
  },
  {
   "cell_type": "code",
   "execution_count": 188,
   "metadata": {},
   "outputs": [
    {
     "name": "stdout",
     "output_type": "stream",
     "text": [
      "Q.2b The Individuals with Max Id and their features are:\n",
      "\n",
      "Max ID: 38 - Features : neck, chest, abdomen, hip, thigh, knee, biceps, wrist\n",
      "\n",
      "Q.2b The Individuals with Min Id and their features are:\n",
      "\n",
      "Min ID: 44 - Features : neck, thigh, biceps, forearm, wrist\n",
      "Min ID: 49 - Features : chest, abdomen, knee\n",
      "\n"
     ]
    }
   ],
   "source": [
    "max_freq_df = {}\n",
    "min_freq_df = {}\n",
    "# Find the Max ID that is repeated more than 1 and store features as list\n",
    "for index, value in values_df['Max ID'].value_counts().items():\n",
    "    if value > 1:\n",
    "        max_temp = []\n",
    "        for i in range(len(values_df[\"Features\"])):\n",
    "            if(index == values_df[\"Max ID\"].loc[i]):\n",
    "                max_temp.append(values_df[\"Features\"].loc[i])\n",
    "        max_freq_df[str(index)] = max_temp\n",
    "\n",
    "# Find the Min ID that is repeated more than 1 and store features as list\n",
    "for index, value in values_df['Min ID'].value_counts().items():\n",
    "    if value > 1:\n",
    "        min_temp = []\n",
    "        for i in range(len(values_df[\"Features\"])):\n",
    "            if(index == values_df[\"Min ID\"].loc[i]):\n",
    "                min_temp.append(values_df[\"Features\"].loc[i])\n",
    "        min_freq_df[str(index)] = min_temp\n",
    "\n",
    "#print the values for Max ID\n",
    "print(\"Q.2b The Individuals with Max Id and their features are:\\n\")\n",
    "for key_value_pair in max_freq_df.items():\n",
    "    print(\"Max ID: \"+ key_value_pair[0] + \" - Features : \" + ', '.join(map(str, key_value_pair[1])))\n",
    "print()\n",
    "#print the values for Min ID\n",
    "print(\"Q.2b The Individuals with Min Id and their features are:\\n\")\n",
    "for key_value_pair in min_freq_df.items():\n",
    "    print(\"Min ID: \"+ key_value_pair[0] + \" - Features : \" + ', '.join(map(str, key_value_pair[1])))\n",
    "print()\n"
   ]
  },
  {
   "cell_type": "markdown",
   "metadata": {},
   "source": [
    "Q.3"
   ]
  },
  {
   "cell_type": "code",
   "execution_count": 189,
   "metadata": {},
   "outputs": [
    {
     "name": "stdout",
     "output_type": "stream",
     "text": [
      "Q.3 number of individuals in each feature that fall within 10% of standard deviation from its respective mean and median :\n",
      "\n",
      "Feature  Within 10% of Mean  Within 10% of Median\n",
      "density                   1                     3\n",
      "bodyfat                   1                     3\n",
      "    age                   3                     4\n",
      " weight                   7                     8\n",
      " height                   3                     5\n",
      "   neck                   4                     6\n",
      "  chest                   7                     7\n",
      "abdomen                   4                     6\n",
      "    hip                   4                     6\n",
      "  thigh                   2                     2\n",
      "   knee                   6                     5\n",
      "  ankle                   5                     7\n",
      " biceps                   5                     6\n",
      "forearm                   4                     3\n",
      "  wrist                   5                     7\n",
      "\n"
     ]
    }
   ],
   "source": [
    "\n",
    "result_list = []\n",
    "\n",
    "for column in bodyfat2_df.columns:\n",
    "    col_mean = bodyfat2_df[column].mean()\n",
    "    col_median = bodyfat2_df[column].median()\n",
    "    col_std = bodyfat2_df[column].std()\n",
    "    \n",
    "    # Calculate the range within 10% of standard deviation from the mean and median\n",
    "    range_mean = (col_mean - 0.1 * col_std, col_mean + 0.1 * col_std)\n",
    "    range_median = (col_median - 0.1 * col_std, col_median + 0.1 * col_std)\n",
    "    \n",
    "    # Count the number of entries within the specified ranges and append it to a list\n",
    "    count_mean = ((bodyfat2_df[column] >= range_mean[0]) & (bodyfat2_df[column] <= range_mean[1])).sum()\n",
    "    count_median = ((bodyfat2_df[column] >= range_median[0]) & (bodyfat2_df[column] <= range_median[1])).sum()\n",
    "    \n",
    "    result_list.append((column, count_mean, count_median))\n",
    "\n",
    "#Store the results in a DataFrame and Print its results\n",
    "result_df = pd.DataFrame(result_list, columns=['Feature', 'Within 10% of Mean', 'Within 10% of Median'])\n",
    "print(\"Q.3 number of individuals in each feature that fall within 10% of standard deviation from its respective mean and median :\\n\")\n",
    "print(result_df.to_string(index=False))\n",
    "print()"
   ]
  },
  {
   "cell_type": "markdown",
   "metadata": {},
   "source": [
    "Q.4 "
   ]
  },
  {
   "cell_type": "code",
   "execution_count": 190,
   "metadata": {},
   "outputs": [
    {
     "name": "stdout",
     "output_type": "stream",
     "text": [
      "Q.4 Number of Missing Values in Each Feature:\n",
      "\n",
      "Feature  Missing Values Count\n",
      "density                     0\n",
      "bodyfat                     4\n",
      "    age                     0\n",
      " weight                     7\n",
      " height                     2\n",
      "   neck                     3\n",
      "  chest                     1\n",
      "abdomen                     0\n",
      "    hip                     6\n",
      "  thigh                     3\n",
      "   knee                     1\n",
      "  ankle                     2\n",
      " biceps                     4\n",
      "forearm                     0\n",
      "  wrist                     2\n",
      "\n"
     ]
    }
   ],
   "source": [
    "bodyfat3 = pd.read_csv('bodyfat3.csv')\n",
    "#Calculate the missig values\n",
    "missing_values_count = bodyfat3.isnull().sum()\n",
    "missing_values_df = pd.DataFrame({'Feature': missing_values_count.index, 'Missing Values Count': missing_values_count.values})\n",
    "#print the missimg values of null for each feature\n",
    "print(\"Q.4 Number of Missing Values in Each Feature:\\n\")\n",
    "print(missing_values_df.to_string(index=False))\n",
    "print()"
   ]
  },
  {
   "cell_type": "markdown",
   "metadata": {},
   "source": [
    "Q.5 a"
   ]
  },
  {
   "cell_type": "code",
   "execution_count": 191,
   "metadata": {},
   "outputs": [
    {
     "name": "stdout",
     "output_type": "stream",
     "text": [
      "Q.5a Absolute Differences in Mean Values (bodyfat3b vs. bodyfat2):\n",
      "\n",
      "density    0.000000\n",
      "bodyfat    0.536348\n",
      "age        0.000000\n",
      "weight     1.001302\n",
      "height     0.036667\n",
      "neck       0.139404\n",
      "chest      0.017796\n",
      "abdomen    0.000000\n",
      "hip        0.410182\n",
      "thigh      0.193234\n",
      "knee       0.074939\n",
      "ankle      0.034833\n",
      "biceps     0.158522\n",
      "forearm    0.000000\n",
      "wrist      0.013250\n",
      "\n"
     ]
    }
   ],
   "source": [
    "bodyfat3b = bodyfat3.copy() #deep copy in order to not affect the original dataset\n",
    "bodyfat2_means = bodyfat2.mean()\n",
    "\n",
    "for column in bodyfat3b.columns:\n",
    "    feature_mean = bodyfat3b[column].mean()\n",
    "    \n",
    "    # Replace missing values with the mean of that feature\n",
    "    bodyfat3b[column].fillna(feature_mean, inplace=True)\n",
    "\n",
    "# Calculate the absolute differences in means for each feature\n",
    "abs_mean_differences = abs(bodyfat2_means - bodyfat3b.mean())\n",
    "\n",
    "print(\"Q.5a Absolute Differences in Mean Values (bodyfat3b vs. bodyfat2):\\n\")\n",
    "print(abs_mean_differences.to_string())\n",
    "print()"
   ]
  },
  {
   "cell_type": "markdown",
   "metadata": {},
   "source": [
    "Q.5 b"
   ]
  },
  {
   "cell_type": "code",
   "execution_count": 192,
   "metadata": {},
   "outputs": [
    {
     "name": "stdout",
     "output_type": "stream",
     "text": [
      "Q.5b Absolute Differences in Median Values (bodyfat3c vs. bodyfat2):\n",
      "\n",
      "density    0.000\n",
      "bodyfat    0.850\n",
      "age        0.000\n",
      "weight     0.875\n",
      "height     0.000\n",
      "neck       0.100\n",
      "chest      0.200\n",
      "abdomen    0.000\n",
      "hip        1.100\n",
      "thigh      1.500\n",
      "knee       0.000\n",
      "ankle      0.000\n",
      "biceps     0.050\n",
      "forearm    0.000\n",
      "wrist      0.000\n",
      "\n"
     ]
    }
   ],
   "source": [
    "bodyfat3c = bodyfat3.copy() # deep copy in order to not affect the original dataset\n",
    "bodyfat2_median = bodyfat2.median()\n",
    "\n",
    "for column in bodyfat3c.columns:\n",
    "    feature_median = bodyfat3c[column].median()\n",
    "    \n",
    "    # Replace missing values with the median of that feature\n",
    "    bodyfat3c[column].fillna(feature_median, inplace=True)\n",
    "\n",
    "# Calculate the absolute differences in means for each feature\n",
    "abs_median_differences = abs(bodyfat2_median - bodyfat3c.median())\n",
    "\n",
    "print(\"Q.5b Absolute Differences in Median Values (bodyfat3c vs. bodyfat2):\\n\")\n",
    "print(abs_median_differences.to_string())\n",
    "print()"
   ]
  },
  {
   "cell_type": "markdown",
   "metadata": {},
   "source": [
    "Q.5 c "
   ]
  },
  {
   "cell_type": "code",
   "execution_count": 198,
   "metadata": {},
   "outputs": [
    {
     "name": "stdout",
     "output_type": "stream",
     "text": [
      "Q.5c The Mean Difference vs The Median Difference:\n",
      "\n",
      "Feature  Mean Difference  Median Difference\n",
      "density         0.000000              0.000\n",
      "bodyfat         0.536348              0.850\n",
      "    age         0.000000              0.000\n",
      " weight         1.001302              0.875\n",
      " height         0.036667              0.000\n",
      "   neck         0.139404              0.100\n",
      "  chest         0.017796              0.200\n",
      "abdomen         0.000000              0.000\n",
      "    hip         0.410182              1.100\n",
      "  thigh         0.193234              1.500\n",
      "   knee         0.074939              0.000\n",
      "  ankle         0.034833              0.000\n",
      " biceps         0.158522              0.050\n",
      "forearm         0.000000              0.000\n",
      "  wrist         0.013250              0.000\n",
      "\n"
     ]
    }
   ],
   "source": [
    "print(\"Q.5c The Mean Difference vs The Median Difference:\\n\")\n",
    "print(pd.DataFrame({'Feature': abs_mean_differences.index, 'Mean Difference': abs_mean_differences.values, 'Median Difference': abs_median_differences.values}).to_string(index=False))\n",
    "print()"
   ]
  },
  {
   "cell_type": "markdown",
   "metadata": {},
   "source": [
    "Q.6 a"
   ]
  },
  {
   "cell_type": "code",
   "execution_count": 199,
   "metadata": {},
   "outputs": [
    {
     "name": "stdout",
     "output_type": "stream",
     "text": [
      "Q.6a The top 3 and bottom 3 rows of normalised bodyfat dataframe:\n",
      "     density   bodyfat       age    weight    height      neck     chest  \\\n",
      "0   0.561613 -0.567159 -1.268721 -0.720556 -0.893031 -0.552493 -0.756337   \n",
      "1   1.217281 -1.197111 -1.387738 -0.248598  0.795473  0.147250 -0.709231   \n",
      "2  -0.767810  0.753706 -1.387738 -0.726766 -1.455866 -1.221814 -0.501964   \n",
      "47  1.271543 -1.247913  0.635551 -0.863386  0.420250 -1.039272 -1.067238   \n",
      "48  0.425958 -0.435073  1.349653 -1.180095 -0.611614 -1.586898 -0.831707   \n",
      "49  1.443374 -1.410481  1.587687 -1.385024 -1.268254 -1.221814 -1.670197   \n",
      "\n",
      "     abdomen       hip     thigh      knee     ankle    biceps   forearm  \\\n",
      "0  -0.474192 -0.722223 -0.373159 -0.527376 -0.742220 -0.215020 -0.666231   \n",
      "1  -0.625823 -0.320882 -0.417831 -0.527376 -0.081882 -0.619192  0.022024   \n",
      "2  -0.288099 -0.273103 -0.283815  0.024850  0.182253 -1.077254 -1.675671   \n",
      "47 -0.867054 -0.894227 -1.311268 -0.458348 -0.742220 -1.077254 -0.941533   \n",
      "48 -0.598254 -1.114009 -1.415503 -1.045088 -1.314513 -1.077254 -1.538020   \n",
      "49 -1.494255 -1.419793 -1.623971 -1.528286 -0.742220 -1.616150 -1.400369   \n",
      "\n",
      "       wrist  \n",
      "0  -0.901998  \n",
      "1   0.072656  \n",
      "2  -1.345022  \n",
      "47 -0.193159  \n",
      "48 -1.610837  \n",
      "49 -1.167813  \n",
      "\n"
     ]
    }
   ],
   "source": [
    "normalized_bodyfat2 = bodyfat2.copy()\n",
    "for column in bodyfat2.columns:\n",
    "    mean = bodyfat2[column].mean()\n",
    "    std = bodyfat2[column].std()\n",
    "    \n",
    "    # Normalize the values using the formula: (x - mean) / std\n",
    "    normalized_bodyfat2[column] = (bodyfat2[column] - mean) / std\n",
    "\n",
    "#print the top3 and bottom 3 rows\n",
    "print(\"Q.6a The top 3 and bottom 3 rows of normalised bodyfat dataframe:\")\n",
    "print(pd.concat([normalized_bodyfat2.head(3), normalized_bodyfat2.tail(3)]))\n",
    "print()\n"
   ]
  },
  {
   "cell_type": "markdown",
   "metadata": {},
   "source": [
    "Q. 6 b"
   ]
  },
  {
   "cell_type": "code",
   "execution_count": 195,
   "metadata": {},
   "outputs": [
    {
     "name": "stdout",
     "output_type": "stream",
     "text": [
      "Q.6b Number of Individuals Greater Than the Respective Feature's Mean:\n",
      "\n",
      "density    27\n",
      "bodyfat    23\n",
      "age        21\n",
      "weight     25\n",
      "height     23\n",
      "neck       26\n",
      "chest      25\n",
      "abdomen    21\n",
      "hip        22\n",
      "thigh      25\n",
      "knee       23\n",
      "ankle      21\n",
      "biceps     22\n",
      "forearm    27\n",
      "wrist      27\n",
      "dtype: int64\n"
     ]
    }
   ],
   "source": [
    "greater_than_mean_counts = (normalized_bodyfat2 > normalized_bodyfat2.mean()).sum()\n",
    "#print the values greater than mean\n",
    "print(\"Q.6b Number of Individuals Greater Than the Respective Feature's Mean:\\n\")\n",
    "print(greater_than_mean_counts)"
   ]
  }
 ],
 "metadata": {
  "kernelspec": {
   "display_name": "Python 3 (ipykernel)",
   "language": "python",
   "name": "python3"
  },
  "language_info": {
   "codemirror_mode": {
    "name": "ipython",
    "version": 3
   },
   "file_extension": ".py",
   "mimetype": "text/x-python",
   "name": "python",
   "nbconvert_exporter": "python",
   "pygments_lexer": "ipython3",
   "version": "3.7.8"
  }
 },
 "nbformat": 4,
 "nbformat_minor": 2
}
